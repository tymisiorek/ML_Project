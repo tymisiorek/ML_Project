{
 "cells": [
  {
   "cell_type": "code",
   "execution_count": 16,
   "id": "9c54f8dd",
   "metadata": {},
   "outputs": [],
   "source": [
    "import pandas as pd\n",
    "import matplotlib.pyplot as plt\n",
    "import os"
   ]
  },
  {
   "cell_type": "code",
   "execution_count": 17,
   "id": "e35a2483",
   "metadata": {},
   "outputs": [],
   "source": [
    "data_path = r'C:\\Projects\\Semester6\\CS4774\\network_intrusion\\data\\gat_stats'"
   ]
  },
  {
   "cell_type": "code",
   "execution_count": 19,
   "id": "9532d7be",
   "metadata": {},
   "outputs": [
    {
     "name": "stdout",
     "output_type": "stream",
     "text": [
      "stats:\n",
      "              precision    recall  f1-score       support\n",
      "class 0        0.990139  0.950886  0.970116  75925.000000\n",
      "class 1        0.000000  0.000000  0.000000     81.000000\n",
      "class 2        0.963782  0.961711  0.962746   5119.000000\n",
      "class 3        0.782823  0.910016  0.841641   3145.000000\n",
      "class 4        0.781609  0.927273  0.848233    220.000000\n",
      "class 5        0.674912  0.816239  0.738878    234.000000\n",
      "class 6        0.409962  0.987692  0.579422    325.000000\n",
      "class 7        0.000000  0.000000  0.000000      1.000000\n",
      "class 8        0.789956  0.989931  0.878710   6356.000000\n",
      "class 9        0.568282  0.526531  0.546610    245.000000\n",
      "class 10       0.117359  0.842105  0.206009     57.000000\n",
      "class 11       0.000000  0.000000  0.000000      1.000000\n",
      "class 12       0.000000  0.000000  0.000000     24.000000\n",
      "accuracy       0.950214  0.950214  0.950214      0.950214\n",
      "macro avg      0.467602  0.608645  0.505566  91733.000000\n",
      "weighted avg   0.961507  0.950214  0.953962  91733.000000\n",
      "\n",
      "Summary:\n",
      " Macro avg Precision: 0.468, Recall: 0.609, F1: 0.506\n",
      " Weighted avg Precision: 0.962, Recall: 0.950, F1: 0.954\n"
     ]
    }
   ],
   "source": [
    "report_path = os.path.join(data_path, 'classification_report_gat.csv')\n",
    "df = pd.read_csv(report_path, index_col=0)\n",
    "\n",
    "print(\"stats:\")\n",
    "print(df.to_string())\n",
    "\n",
    "macro_p = df.loc['macro avg', 'precision']\n",
    "macro_r = df.loc['macro avg', 'recall']\n",
    "macro_f = df.loc['macro avg', 'f1-score']\n",
    "wtd_p = df.loc['weighted avg', 'precision']\n",
    "wtd_r = df.loc['weighted avg', 'recall']\n",
    "wtd_f = df.loc['weighted avg', 'f1-score']\n",
    "\n",
    "print(\"\\nSummary:\")\n",
    "print(f\" Macro avg Precision: {macro_p:.3f}, Recall: {macro_r:.3f}, F1: {macro_f:.3f}\")\n",
    "print(f\" Weighted avg Precision: {wtd_p:.3f}, Recall: {wtd_r:.3f}, F1: {wtd_f:.3f}\")\n"
   ]
  }
 ],
 "metadata": {
  "kernelspec": {
   "display_name": "Python 3",
   "language": "python",
   "name": "python3"
  },
  "language_info": {
   "codemirror_mode": {
    "name": "ipython",
    "version": 3
   },
   "file_extension": ".py",
   "mimetype": "text/x-python",
   "name": "python",
   "nbconvert_exporter": "python",
   "pygments_lexer": "ipython3",
   "version": "3.12.4"
  }
 },
 "nbformat": 4,
 "nbformat_minor": 5
}
